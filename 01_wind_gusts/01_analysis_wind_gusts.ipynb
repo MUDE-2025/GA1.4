{
 "cells": [
  {
   "cell_type": "markdown",
   "metadata": {
    "editable": true,
    "slideshow": {
     "slide_type": ""
    },
    "tags": []
   },
   "source": [
    "# Group assignment 1.4 Distribution fitting\n",
    "\n",
    "*[CEGM1000 MUDE](http://mude.citg.tudelft.nl/)*\n",
    "\n",
    "*Written by: Patricia Mares Nasarre, Robert Lanzafame, and Max Ramgraber*\n",
    "\n",
    "*Due: Friday, September 26th 2025.*"
   ]
  },
  {
   "cell_type": "markdown",
   "metadata": {
    "editable": true,
    "slideshow": {
     "slide_type": ""
    },
    "tags": []
   },
   "source": [
    "## Case 1: Wind gust factor in Delft"
   ]
  },
  {
   "cell_type": "code",
   "execution_count": null,
   "metadata": {
    "editable": false,
    "slideshow": {
     "slide_type": ""
    },
    "tags": [
     "remove-input"
    ]
   },
   "outputs": [],
   "source": [
    "#from IPython.display import YouTubeVideo\n",
    "#YouTubeVideo('U6QtxJNhiog', width=800, height=600)"
   ]
  },
  {
   "cell_type": "markdown",
   "metadata": {
    "editable": true,
    "slideshow": {
     "slide_type": ""
    },
    "tags": []
   },
   "source": [
    "**What's the propagated uncertainty? *How large is the wind gust factor?***\n",
    "\n",
    "In this project, you have chosen to work on the uncertainty of of the wind gust fraction at 10m height in Delft. You have observations of the wind gust speed $G$ [m/s] and the baseline wind speed $v$ [m/s] every hour for the entire month of August 2025. The data has been accessed from [here](https://open-meteo.com/en/docs/historical-weather-api). The wind gust factor $F$ [-] is computed as the fraction\n",
    "\n",
    "$$\n",
    "F = \\frac{G}{v}\n",
    "$$\n",
    "\n",
    "As you may have experienced yourself, the Netherlands can be a pretty windy place. The wind gust factor quantifies by what factor the wind gust top speeds exceed the base wind speed.\n",
    "\n",
    "**The goal of this project is:**\n",
    "1. Choose a reasonable distribution function for $G$ and $v$.\n",
    "2. Fit the chosen distributions to the observations of $G$ and $v$.\n",
    "3. Assuming $G$ and $v$ are independent, propagate their distributions to obtain the distribution of $F$.\n",
    "4. Analyze the distribution of $F$."
   ]
  },
  {
   "cell_type": "markdown",
   "metadata": {
    "editable": true,
    "slideshow": {
     "slide_type": ""
    },
    "tags": []
   },
   "source": [
    "## Importing packages"
   ]
  },
  {
   "cell_type": "code",
   "execution_count": null,
   "metadata": {
    "editable": true,
    "slideshow": {
     "slide_type": ""
    },
    "tags": []
   },
   "outputs": [],
   "source": [
    "import numpy as np              # For math\n",
    "import matplotlib.pyplot as plt # For plotting\n",
    "from scipy import stats         # For math\n",
    "from math import ceil, trunc    # For plotting\n",
    "\n",
    "# This is just cosmetic - it updates the font size for our plots\n",
    "plt.rcParams.update({'font.size': 14})"
   ]
  },
  {
   "cell_type": "markdown",
   "metadata": {
    "editable": true,
    "slideshow": {
     "slide_type": ""
    },
    "tags": []
   },
   "source": [
    "## 1. Explore the data"
   ]
  },
  {
   "cell_type": "markdown",
   "metadata": {
    "editable": true,
    "slideshow": {
     "slide_type": ""
    },
    "tags": []
   },
   "source": [
    "The first step in the analysis is exploring the data, visually and through statistics. \n",
    "\n",
    "Tip: In the workshop files, you have used the pandas `.describe()` function to obtain the statistics of a data vector. `scipy.stats` has a similar function."
   ]
  },
  {
   "cell_type": "code",
   "execution_count": null,
   "metadata": {},
   "outputs": [],
   "source": [
    "import os\n",
    "from urllib.request import urlretrieve\n",
    "\n",
    "def findfile(fname):\n",
    "    if not os.path.isfile(fname):\n",
    "        print(f\"Downloading {fname}...\")\n",
    "        urlretrieve('http://files.mude.citg.tudelft.nl/GA1.4/'+fname, fname)\n",
    "\n",
    "findfile('dataset_wind_gusts.csv')"
   ]
  },
  {
   "cell_type": "code",
   "execution_count": null,
   "metadata": {
    "editable": true,
    "slideshow": {
     "slide_type": ""
    },
    "tags": []
   },
   "outputs": [],
   "source": [
    "# Import the data from the .csv file\n",
    "v, G = np.genfromtxt('dataset_wind_gusts.csv', delimiter=\",\", unpack=True, skip_header=True)\n",
    "\n",
    "# Plot the time series for the wind speed v\n",
    "fig, ax = plt.subplots(2, 1, figsize=(10, 7), layout = 'constrained')\n",
    "ax[0].plot(v,'k')\n",
    "ax[0].set_xlabel('Time')\n",
    "ax[0].set_ylabel('Wind speed $v$ [m/s]')\n",
    "ax[0].grid()\n",
    "\n",
    "# Plot the time series for the wind gust speed G\n",
    "ax[1].plot(G,'k')\n",
    "ax[1].set_xlabel('Time')\n",
    "ax[1].set_ylabel('Gust speed $G$ [m/s]')\n",
    "ax[1].grid()"
   ]
  },
  {
   "cell_type": "code",
   "execution_count": null,
   "metadata": {
    "editable": true,
    "slideshow": {
     "slide_type": ""
    },
    "tags": []
   },
   "outputs": [],
   "source": [
    "# Statistics for v\n",
    "print(stats.describe(v))"
   ]
  },
  {
   "cell_type": "code",
   "execution_count": null,
   "metadata": {
    "editable": true,
    "slideshow": {
     "slide_type": ""
    },
    "tags": []
   },
   "outputs": [],
   "source": [
    "# Statistics for G\n",
    "print(stats.describe(G))"
   ]
  },
  {
   "cell_type": "markdown",
   "metadata": {
    "editable": true,
    "slideshow": {
     "slide_type": ""
    },
    "tags": []
   },
   "source": [
    "<div style=\"background-color:#AABAB2; color: black; width:90%; vertical-align: middle; padding:15px; margin: 10px; border-radius: 10px\">\n",
    "<p>\n",
    "<b>Task 1:</b>\n",
    "\n",
    "Describe the data based on the previous statistics:\n",
    "- Which variable features a higher variability? Also consider the magnitudes of the different variables.\n",
    "- What does the skewness coefficient represent? Which kind of distribution functions should we consider to fit based on this coefficient?\n",
    "</p>\n",
    "</div>"
   ]
  },
  {
   "cell_type": "markdown",
   "metadata": {
    "editable": true,
    "slideshow": {
     "slide_type": ""
    },
    "tags": [
     "solution"
    ]
   },
   "source": [
    "<div style=\"background-color:#FAE99E; color: black; width:95%; vertical-align: middle; padding:15px; margin: 10px; border-radius: 10px\">\n",
    "<p>\n",
    "<b>Solution:</b>\n",
    "\n",
    "- Both variables have similar means (with the mean of $G$ being naturally larger) but different variances. To compare the variability of variables with different magnitudes, it can be useful to compute the <b>coefficient of variation</b>, which normalizes the standard deviation against the mean. If we do so, we obtain $CV(v)=\\sigma/\\mu=\\sqrt{1.990}/2.832 = 0.498$ and $CV(G)=\\sigma/\\mu= \\sqrt{10.185}/6.539 = 0.488$. Thus, we can see that $v$ and $G$ have approximately similar variability.\n",
    "- Both $v$ and $G$ have a positive non-zero skewness, but the one for $v$ is a bit higher. Thus, the data presents a right tail and mode < median < mean. An appropriate distribution for $H$ and $G$ would be one which: (1) is bounded in 0 (no negative values of $H$ or $T$ are physically possible), and (2) has a positive tail. If we consider the distributions that you have been introduced to, the Lognormal, Gumbel, beta, or Exponential distributions would be possibilities.\n",
    "\n",
    "</div>\n",
    "</div>"
   ]
  },
  {
   "cell_type": "markdown",
   "metadata": {
    "editable": true,
    "slideshow": {
     "slide_type": ""
    },
    "tags": []
   },
   "source": [
    "## 2. Empirical distribution functions"
   ]
  },
  {
   "cell_type": "markdown",
   "metadata": {
    "editable": true,
    "slideshow": {
     "slide_type": ""
    },
    "tags": []
   },
   "source": [
    "Now, we are going to compute and plot the empirical PDF and CDF for each variable. Note that you have the pseudo-code for the empirical CDF in the [reader](https://mude.citg.tudelft.nl/book/2025/univariate_distributions/empirical.html)."
   ]
  },
  {
   "cell_type": "markdown",
   "metadata": {
    "editable": true,
    "slideshow": {
     "slide_type": ""
    },
    "tags": []
   },
   "source": [
    "<div style=\"background-color:#AABAB2; color: black; width:95%; vertical-align: middle; padding:15px; margin: 10px; border-radius: 10px\">\n",
    "<p>\n",
    "<b>Task 2:</b>  \n",
    " \n",
    "Define a function to compute the empirical CDF. Plot your empirical PDF and CDF.\n",
    "</p>\n",
    "</div>"
   ]
  },
  {
   "cell_type": "code",
   "execution_count": null,
   "metadata": {
    "editable": true,
    "slideshow": {
     "slide_type": ""
    },
    "tags": [
     "solution"
    ]
   },
   "outputs": [],
   "source": [
    "def ecdf(observations):\n",
    "    \"\"\"Write a function that returns [non_exceedance_probabilities, sorted_values].\"\"\"\n",
    "    sorted_values = np.sort(observations)\n",
    "    n = sorted_values.size\n",
    "    non_exceedance_probabilities = np.arange(1, n+1) / (n + 1)\n",
    "    return [non_exceedance_probabilities, sorted_values]"
   ]
  },
  {
   "cell_type": "code",
   "execution_count": null,
   "metadata": {
    "editable": true,
    "slideshow": {
     "slide_type": ""
    },
    "tags": [
     "assignment"
    ]
   },
   "outputs": [],
   "source": [
    "# def ecdf(YOUR_CODE_HERE):\n",
    "#     \"\"\"Write a function that returns [non_exceedance_probabilities, sorted_values].\"\"\"\n",
    "#     YOUR_CODE_HERE # may be more than one line\n",
    "#     return [non_exceedance_probabilities, sorted_values]"
   ]
  },
  {
   "cell_type": "code",
   "execution_count": null,
   "metadata": {
    "editable": true,
    "slideshow": {
     "slide_type": ""
    },
    "tags": [
     "solution"
    ]
   },
   "outputs": [],
   "source": [
    "fig, axes = plt.subplots(2, 2, figsize=(12, 12))\n",
    "\n",
    "# Plot the PDF of v\n",
    "axes[0,0].hist(v, edgecolor='k', linewidth=0.2, rwidth = 0.9,\n",
    "             color='cornflowerblue', density = True, bins = 20)\n",
    "axes[0,0].set_xlabel('Wind speed $v$ [m/s]')\n",
    "axes[0,0].set_ylabel('density')\n",
    "axes[0,0].set_title('empirical PDF of $v$')\n",
    "axes[0,0].grid()\n",
    "\n",
    "# Plot the PDF of G\n",
    "axes[0,1].hist(G, edgecolor='k', linewidth=0.2, rwidth = 0.9,\n",
    "             color='cornflowerblue', density = True, bins = 20)\n",
    "axes[0,1].set_xlabel('Gust speed $G$ [m/s]')\n",
    "axes[0,1].set_ylabel('density')\n",
    "axes[0,1].set_title('empirical PDF of $G$')\n",
    "axes[0,1].grid()\n",
    "\n",
    "# Plot the empirical CDF of v\n",
    "axes[1,0].step(ecdf(v)[1], ecdf(v)[0], \n",
    "             color='cornflowerblue')\n",
    "axes[1,0].set_xlabel('Wind speed $v$ [m/s]')\n",
    "axes[1,0].set_ylabel(r'${P[X \\leq x]}$')\n",
    "axes[1,0].set_title('empirical CDF of $H$')\n",
    "axes[1,0].grid()\n",
    "\n",
    "# Plot the empirical CDF of G\n",
    "axes[1,1].step(ecdf(G)[1], ecdf(G)[0], \n",
    "             color='cornflowerblue', label='Gust speed $G$ [m/s]')\n",
    "axes[1,1].set_xlabel('Gust speed $G$ [m/s]')\n",
    "axes[1,1].set_ylabel(r'${P[X \\leq x]}$')\n",
    "axes[1,1].set_title('empirical CDF of $G$')\n",
    "axes[1,1].grid()"
   ]
  },
  {
   "cell_type": "code",
   "execution_count": null,
   "metadata": {
    "editable": true,
    "slideshow": {
     "slide_type": ""
    },
    "tags": [
     "assignment"
    ]
   },
   "outputs": [],
   "source": [
    "### YOUR PLOTS HERE ###"
   ]
  },
  {
   "cell_type": "markdown",
   "metadata": {
    "editable": true,
    "slideshow": {
     "slide_type": ""
    },
    "tags": []
   },
   "source": [
    "<div style=\"background-color:#AABAB2; color: black; width:95%; vertical-align: middle; padding:15px; margin: 10px; border-radius: 10px\">\n",
    "<p>\n",
    "<b>Task 3:</b>   \n",
    "\n",
    "Based on the results of Task 1 and the empirical PDF and CDF, select <b>one</b> distribution to fit to each variable. \n",
    "- For $v$, select between a lognormal or exponential distribution.</li>\n",
    "- For $G$ choose between a Gaussian or beta distribution.</li>\n",
    "\n",
    "</p>\n",
    "</div>"
   ]
  },
  {
   "cell_type": "markdown",
   "metadata": {
    "editable": true,
    "slideshow": {
     "slide_type": ""
    },
    "tags": [
     "solution"
    ]
   },
   "source": [
    "<div style=\"background-color:#FAE99E; color: black; width:95%; vertical-align: middle; padding:15px; margin: 10px; border-radius: 10px\">\n",
    "<b>Solution:</b>\n",
    "\n",
    "$v$: lognormal - Reasoning: both distributions have a right tail and a left bound, but the mode of the PDF is not at the left bound.\n",
    "\n",
    "$G$: beta - Reasoning: the distribution has a positive skewness, indicating that it is not symmetric; furthermore, a Gaussian distribution has no bounds and so may permit unphysical negative values.\n",
    "\n",
    "</div>\n",
    "</div>"
   ]
  },
  {
   "cell_type": "markdown",
   "metadata": {
    "editable": true,
    "slideshow": {
     "slide_type": ""
    },
    "tags": []
   },
   "source": [
    "## 3. Fitting a distribution"
   ]
  },
  {
   "cell_type": "markdown",
   "metadata": {
    "editable": true,
    "slideshow": {
     "slide_type": ""
    },
    "tags": []
   },
   "source": [
    "<div style=\"background-color:#AABAB2; color: black; width:95%; vertical-align: middle; padding:15px; margin: 10px; border-radius: 10px\">\n",
    "<p>\n",
    "<b>Task 4:</b>  \n",
    " \n",
    "Fit the selected distributions to the observations using MLE (Maximum Likelihood Estimation).\n",
    "</p>\n",
    "</div>\n",
    "\n",
    "Hint: Use [Scipy](https://docs.scipy.org/doc/scipy/reference/stats.html)'s built-in functions (be careful with the parameter definitions!)."
   ]
  },
  {
   "cell_type": "code",
   "execution_count": null,
   "metadata": {
    "editable": true,
    "slideshow": {
     "slide_type": ""
    },
    "tags": [
     "solution"
    ]
   },
   "outputs": [],
   "source": [
    "params_v = stats.lognorm.fit(v)\n",
    "params_G = stats.beta.fit(G)\n",
    "\n",
    "print(params_v)\n",
    "print(params_G)"
   ]
  },
  {
   "cell_type": "code",
   "execution_count": null,
   "metadata": {
    "editable": true,
    "slideshow": {
     "slide_type": ""
    },
    "tags": [
     "assignment"
    ]
   },
   "outputs": [],
   "source": [
    "### YOUR CODE HERE ###"
   ]
  },
  {
   "cell_type": "markdown",
   "metadata": {
    "editable": true,
    "slideshow": {
     "slide_type": ""
    },
    "tags": []
   },
   "source": [
    "## 4. Assessing goodness of fit"
   ]
  },
  {
   "cell_type": "markdown",
   "metadata": {
    "editable": true,
    "slideshow": {
     "slide_type": ""
    },
    "tags": []
   },
   "source": [
    "<div style=\"background-color:#AABAB2; color: black; width:95%; vertical-align: middle; padding:15px; margin: 10px; border-radius: 10px\">\n",
    "<p>\n",
    "<b>Task 5:</b>  \n",
    " \n",
    "Assess the goodness of fit of the selected distribution using:\n",
    "- One graphical method: QQplot or Logscale. Choose one.\n",
    "- The Kolmogorov-Smirnov test.\n",
    "</p>\n",
    "</div>\n",
    "\n",
    "Hint: The Kolmogorov-Smirnov test is implemented in [Scipy](https://docs.scipy.org/doc/scipy/reference/stats.html)."
   ]
  },
  {
   "cell_type": "code",
   "execution_count": null,
   "metadata": {
    "editable": true,
    "slideshow": {
     "slide_type": ""
    },
    "tags": [
     "solution"
    ]
   },
   "outputs": [],
   "source": [
    "# Graphical method\n",
    "\n",
    "# Logscale \n",
    "fig, axes = plt.subplots(1, 2, figsize=(14, 5))\n",
    "\n",
    "axes[0].step(ecdf(v)[1], 1-ecdf(v)[0], \n",
    "             color='k', label='Wind speed $v$ [m/s]')\n",
    "axes[0].plot(ecdf(v)[1], 1-stats.lognorm.cdf(ecdf(v)[1], *params_v),\n",
    "             '--', color = 'grey', label='Exponential')\n",
    "axes[0].set_xlabel('Wind speed $v$ [m/s]')\n",
    "axes[0].set_ylabel('${P[X > x]}$')\n",
    "axes[0].set_title('v', fontsize=18)\n",
    "axes[0].set_yscale('log')\n",
    "axes[0].legend(loc = \"upper right\")\n",
    "axes[0].grid()\n",
    "\n",
    "axes[1].step(ecdf(G)[1], 1-ecdf(G)[0], \n",
    "             color='k', label='Gust speed $G$ [m/s]')\n",
    "axes[1].plot(ecdf(G)[1], 1-stats.beta.cdf(ecdf(G)[1], *params_G),\n",
    "             '--', color = 'grey', label='Gumbel')\n",
    "axes[1].set_xlabel('Gust speed $G$ [m/s]')\n",
    "axes[1].set_ylabel('${P[X > x]}$')\n",
    "axes[1].set_title('G', fontsize=18)\n",
    "axes[1].set_yscale('log')\n",
    "axes[1].legend(loc = \"upper right\")\n",
    "axes[1].grid()"
   ]
  },
  {
   "cell_type": "code",
   "execution_count": null,
   "metadata": {
    "editable": true,
    "slideshow": {
     "slide_type": ""
    },
    "tags": [
     "solution"
    ]
   },
   "outputs": [],
   "source": [
    "# QQ plot\n",
    "fig, axes = plt.subplots(1, 2, figsize=(14, 5))\n",
    "\n",
    "axes[0].plot([trunc(min(v)), ceil(max(v))], [trunc(min(v)), ceil(max(v))], 'k')\n",
    "axes[0].scatter(ecdf(v)[1], stats.lognorm.ppf(ecdf(v)[0], *params_v), \n",
    "             color='grey', label='lognormal')\n",
    "axes[0].set_xlabel('Observed wind speed $v$ [m/s]')\n",
    "axes[0].set_ylabel('Estimated wind speed $v$ [m/s]')\n",
    "axes[0].set_title('$v$', fontsize=18)\n",
    "axes[0].set_xlim([trunc(min(v)), ceil(max(v))])\n",
    "axes[0].set_ylim([trunc(min(v)), ceil(max(v))])\n",
    "axes[0].legend(loc = \"upper right\")\n",
    "axes[0].grid()\n",
    "\n",
    "axes[1].plot([trunc(min(G)), ceil(max(G))], [trunc(min(G)), ceil(max(G))], 'k')\n",
    "axes[1].scatter(ecdf(G)[1], stats.beta.ppf(ecdf(G)[0], *params_G), \n",
    "             color='grey', label='beta')\n",
    "axes[1].set_xlabel('Observed gust speed $G$ [m/s]')\n",
    "axes[1].set_ylabel('estimated gust speed $G$ [m/s]')\n",
    "axes[1].set_title('$G$', fontsize=18)\n",
    "axes[1].set_xlim([trunc(min(G)), ceil(max(G))])\n",
    "axes[1].set_ylim([trunc(min(G)), ceil(max(G))])\n",
    "axes[1].legend(loc = \"upper right\")\n",
    "axes[1].grid()"
   ]
  },
  {
   "cell_type": "code",
   "execution_count": null,
   "metadata": {
    "editable": true,
    "slideshow": {
     "slide_type": ""
    },
    "tags": [
     "assignment"
    ]
   },
   "outputs": [],
   "source": [
    "### YOUR PLOTS HERE ###"
   ]
  },
  {
   "cell_type": "code",
   "execution_count": null,
   "metadata": {
    "editable": true,
    "slideshow": {
     "slide_type": ""
    },
    "tags": [
     "solution"
    ]
   },
   "outputs": [],
   "source": [
    "# KS test\n",
    "_, p_v = stats.kstest(v,stats.lognorm.cdf, args=params_v)\n",
    "_, p_G = stats.kstest(G,stats.beta.cdf, args=params_G)\n",
    "\n",
    "print('The p-value for the fitted distribution to v is:', round(p_v, 3))\n",
    "print('The p-value for the fitted distribution to G is:', round(p_G, 3))"
   ]
  },
  {
   "cell_type": "code",
   "execution_count": null,
   "metadata": {
    "editable": true,
    "slideshow": {
     "slide_type": ""
    },
    "tags": [
     "assignment"
    ]
   },
   "outputs": [],
   "source": [
    "### YOUR CODE HERE ###"
   ]
  },
  {
   "cell_type": "markdown",
   "metadata": {
    "editable": true,
    "slideshow": {
     "slide_type": ""
    },
    "tags": []
   },
   "source": [
    "<div style=\"background-color:#AABAB2; color: black; width:95%; vertical-align: middle; padding:15px; margin: 10px; border-radius: 10px\">\n",
    "<p>\n",
    "<b>Task 6:</b>  \n",
    " \n",
    "Interpret the results of the GOF techniques. How does the selected parametric distribution perform?\n",
    "</p>\n",
    "</div>"
   ]
  },
  {
   "cell_type": "markdown",
   "metadata": {
    "editable": true,
    "slideshow": {
     "slide_type": ""
    },
    "tags": [
     "solution"
    ]
   },
   "source": [
    "<div style=\"background-color:#FAE99E; color: black; width:95%; vertical-align: middle; padding:15px; margin: 10px; border-radius: 10px\">\n",
    "    <b>Solution:</b>\n",
    "\n",
    "- <b>Logscale plot</b>: This technique allows to visually assess the fitting of the parametric distribution to the tail of the empirical distribution. For $v$, the lognormal distribution fits very well in the tail. The beta distribution for $G$ also yields an acceptable fit, but deviates from the empirical distributions in the right tail. Specifically, it underpredicts the exceedance probability of high wind speeds, which may lead to an underestimation of the risk of high wind speeds.\n",
    "- <b>QQplot</b>: Here, we can see that the fit of the parametric distribution to the empirical distribution is very good in both cases, with the only exception being the tails, as discussed in the logscale plot.\n",
    "- <b>Kolmogorov-Smirnov test</b>: remember that the test statistic measures the difference between two distributions. The p-value then represents the probability of observing a difference at least that large for a sample from the assumed distribution. If p-value is lower than the significance ($\\alpha=0.05$, for instance), the null hypothesis is rejected. Considering here $\\alpha=0.05$, we *cannot* reject the hypothesis that $v$ comes from a lognormal distribution, or that $G$ comes from a beta distribution.\n",
    "</div>\n",
    "</div>"
   ]
  },
  {
   "cell_type": "markdown",
   "metadata": {
    "editable": true,
    "slideshow": {
     "slide_type": ""
    },
    "tags": []
   },
   "source": [
    "## 5. Propagating the uncertainty"
   ]
  },
  {
   "cell_type": "markdown",
   "metadata": {
    "editable": true,
    "slideshow": {
     "slide_type": ""
    },
    "tags": []
   },
   "source": [
    "Using the fitted distributions, we are going to propagate the uncertainty from $v$ and $G$ to $F$ with a Monte Carlo approach **assuming that $v$ and $G$ are independent**.\n",
    "\n",
    "<div style=\"background-color:#AABAB2; color: black; width:95%; vertical-align: middle; padding:15px; margin: 10px; border-radius: 10px\">\n",
    "<p>\n",
    "<b>Task 7:</b>   \n",
    "    \n",
    "1. Draw 10,000 random samples from the fitted distribution functions for $v$ and $G$.\n",
    "    \n",
    "2. Compute $F$ for each pair of the generated samples.\n",
    "    \n",
    "3. Compute $F$ for the observations.\n",
    "    \n",
    "4. Plot the PDF and exceedance curve in logscale of $F$ computed using both the simulations and the observations.\n",
    "\n",
    "<b>Hint: </b>The distributions you have chosen may generate $v$ or $G$ values close to zero or even negative. Since you are computing a fraction, this may cause numerical issues. A hack to avoid that might be to set all values below a threshold, say, $0.1$ [m/s] to the threshold value. \n",
    "</p>\n",
    "</div>"
   ]
  },
  {
   "cell_type": "code",
   "execution_count": null,
   "metadata": {
    "editable": true,
    "slideshow": {
     "slide_type": ""
    },
    "tags": [
     "solution"
    ]
   },
   "outputs": [],
   "source": [
    "# Here, the solution is shown for the Lognormal distribution\n",
    "\n",
    "# Draw random samples\n",
    "rs_v = stats.lognorm.rvs(*params_v, size = 10000)\n",
    "rs_G = stats.beta.rvs(*params_G, size = 10000)\n",
    "\n",
    "print(rs_v)\n",
    "print(rs_G)\n",
    "\n",
    "# Threshold the values\n",
    "rs_v = np.maximum(rs_v, 0.1)\n",
    "rs_G = np.maximum(rs_G, 0.1)\n",
    "\n",
    "# Compute F\n",
    "rs_F = rs_G / rs_v\n",
    "\n",
    "# Repeat for observations\n",
    "F = G / v\n",
    "\n",
    "# Plot the PDF and the CDF\n",
    "fig, axes = plt.subplots(1, 2, figsize=(12, 7))\n",
    "axes[0].hist(rs_F, edgecolor='k', linewidth=0.2, density = True, label = 'From simulations', bins = 100, rwidth = 0.9)\n",
    "axes[0].hist(F, edgecolor='k', facecolor = 'orange', alpha = 0.5, linewidth=0.2, rwidth = 0.9, density = True, label = 'From observations', bins = 30)\n",
    "axes[0].set_xlabel('Wind gust factor $F$ [-]')\n",
    "axes[0].set_ylabel('density')\n",
    "axes[0].set_xlim([0,30])\n",
    "axes[0].set_title('PDF', fontsize=18)\n",
    "axes[0].legend(loc = \"upper right\")\n",
    "axes[0].grid()\n",
    "\n",
    "axes[1].step(ecdf(rs_F)[1], 1-ecdf(rs_F)[0], label = 'From simulations')\n",
    "axes[1].step(ecdf(F)[1], 1-ecdf(F)[0], color = 'orange', label = 'From observations')\n",
    "axes[1].set_xlabel('Wind gust factor $F$ [-]')\n",
    "axes[1].set_ylabel('${P[X > x]}$')\n",
    "axes[1].set_title('Exceedance plot', fontsize=18)\n",
    "axes[1].set_yscale('log')\n",
    "axes[1].legend(loc = \"upper right\")\n",
    "axes[1].grid()"
   ]
  },
  {
   "cell_type": "code",
   "execution_count": null,
   "metadata": {
    "editable": true,
    "slideshow": {
     "slide_type": ""
    },
    "tags": [
     "assignment"
    ]
   },
   "outputs": [],
   "source": [
    "# Draw random samples\n",
    "rs_v = ### YOUR CODE HERE ###\n",
    "rs_G = ### YOUR CODE HERE ###\n",
    "\n",
    "# Compute F\n",
    "rs_F = ### YOUR CODE HERE ###\n",
    "\n",
    "# Repeat for observations\n",
    "F = ### YOUR CODE HERE ###\n",
    "\n",
    "# Plot the PDF and the CDF"
   ]
  },
  {
   "cell_type": "markdown",
   "metadata": {
    "editable": true,
    "slideshow": {
     "slide_type": ""
    },
    "tags": []
   },
   "source": [
    "<div style=\"background-color:#AABAB2; color: black; width:95%; vertical-align: middle; padding:15px; margin: 10px; border-radius: 10px\">\n",
    "<p>\n",
    "<b>Task 8:</b>   \n",
    "\n",
    "Interpret the figures above, answering the following questions:\n",
    "- Are there differences between the two computed distributions for $F$?\n",
    "- What are the advantages and disadvantages of using the simulations?\n",
    "</p>\n",
    "</div>"
   ]
  },
  {
   "cell_type": "markdown",
   "metadata": {
    "editable": true,
    "slideshow": {
     "slide_type": ""
    },
    "tags": [
     "solution"
    ]
   },
   "source": [
    "<div style=\"background-color:#FAE99E; color: black; width:95%; vertical-align: middle; padding:15px; margin: 10px; border-radius: 10px\">\n",
    "    <b>Solution:</b>\n",
    "\n",
    "- In the PDF plot, we can see significant differences in the observed and simulated distributions for $F$. The observed distribution is much narrower, and has wind gust factors that start at $1$ and go into the tens. By contrast, the simulated distribution for $F$ includes values below $1$, which should not be possible: the gust speed cannot be lower than the wind speed, so we should always have $F \\geq 1$.\n",
    "- Similarly, we can see in both the PDF and CDF plots that the simulated wind gust factors are dramatically larger than the observed ones. This includes unrealistically large factors, some even reaching beyond 100, which seems scarcely physically possible.\n",
    "- <b>Disadvantages:</b> we are assuming that $v$ and $G$ are independent (we will see how to address this issue next week). In the case of the wind gust factor, intuition might already tell us that there should be a dependence between the variables. Neglecting this dependence yields the weird simulated results we have seen above. <b>Advantages:</b> I can draw all the samples I want allowing the computation of events I have not observed yet (extreme events; here, perhaps, even too extreme =P).\n",
    "</div>\n",
    "</div>"
   ]
  },
  {
   "cell_type": "markdown",
   "metadata": {
    "editable": true,
    "slideshow": {
     "slide_type": ""
    },
    "tags": []
   },
   "source": [
    "If you run the code in the cell below, you will obtain a scatter plot of both variables. Explore the relationship between both variables and answer the following questions:\n",
    "\n",
    "<div style=\"background-color:#AABAB2; color: black; width:95%; vertical-align: middle; padding:15px; margin: 10px; border-radius: 10px\">\n",
    "<p>\n",
    "<b>Task 9:</b>   \n",
    "    \n",
    "1. Observe the plot below. What differences do you observe between the generated samples and the observations?\n",
    "    \n",
    "2. What can you improve into the previous analysis? Do you have any ideas/suggestions on how to implement those suggestions?\n",
    "</p>\n",
    "</div>"
   ]
  },
  {
   "cell_type": "code",
   "execution_count": null,
   "metadata": {
    "editable": true,
    "slideshow": {
     "slide_type": ""
    },
    "tags": []
   },
   "outputs": [],
   "source": [
    "fig, axes = plt.subplots(1, 1, figsize=(7, 7))\n",
    "axes.scatter(rs_v, rs_G, 40, 'k', label = 'Simulations')\n",
    "axes.scatter(v, G, 40, 'r', marker = 'x', label = 'Observations')\n",
    "axes.set_xlabel('wind speed $v$ [m/s]')\n",
    "axes.set_ylabel('Gust speed $G$ [m/s]')\n",
    "axes.legend(loc = \"upper right\")\n",
    "axes.grid()\n",
    "plt.savefig(\"scatterplot.png\",dpi=300)"
   ]
  },
  {
   "cell_type": "markdown",
   "metadata": {
    "editable": true,
    "slideshow": {
     "slide_type": ""
    },
    "tags": [
     "solution"
    ]
   },
   "source": [
    "<div style=\"background-color:#FAE99E; color: black; width:95%; vertical-align: middle; padding:15px; margin: 10px; border-radius: 10px\">\n",
    "    <b>Solution:</b>\n",
    "\n",
    "- As may be expected, the observations are focussed along a thin band, indicating strong positive correlation. By contrast, the simulations are spread much more broadly, freely combining wind and gust speeds of different velocities. This is a consequence of the assumption of independence in the simulations. </li>\n",
    "- There is a correlation of $0.953$ between the observed $v$ and $G$, indicating a strong (physical) dependence between the variables. On the contrary, as expected, no significant correlation is observed between the generated samples.\n",
    "- <b>Some suggestions:</b> The fit got $v$ was already excellent, and also choosing a lognormal distribution for $G$ might yield better results (we limited ourselves to a beta distribution here for the sake of the exercise). Accounting for the dependence between the two variables is an absolute must. </li>\n",
    "</div>"
   ]
  },
  {
   "cell_type": "markdown",
   "metadata": {
    "editable": true,
    "slideshow": {
     "slide_type": ""
    },
    "tags": []
   },
   "source": [
    " > By Max Ramgraber, Patricia Mares Nasarre and Robert Lanzafame, Delft University of Technology. CC BY 4.0, more info [on the Credits page of Workbook](https://mude.citg.tudelft.nl/workbook-2025/credits.html).\n"
   ]
  }
 ],
 "metadata": {
  "kernelspec": {
   "display_name": "mude-base",
   "language": "python",
   "name": "python3"
  },
  "language_info": {
   "codemirror_mode": {
    "name": "ipython",
    "version": 3
   },
   "file_extension": ".py",
   "mimetype": "text/x-python",
   "name": "python",
   "nbconvert_exporter": "python",
   "pygments_lexer": "ipython3",
   "version": "3.12.11"
  }
 },
 "nbformat": 4,
 "nbformat_minor": 4
}
