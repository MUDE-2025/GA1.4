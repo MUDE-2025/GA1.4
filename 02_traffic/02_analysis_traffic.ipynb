{
 "cells": [
  {
   "cell_type": "markdown",
   "metadata": {
    "editable": true,
    "slideshow": {
     "slide_type": ""
    },
    "tags": []
   },
   "source": [
    "# Analysis traffic dataset"
   ]
  },
  {
   "attachments": {},
   "cell_type": "markdown",
   "metadata": {
    "editable": true,
    "slideshow": {
     "slide_type": ""
    },
    "tags": []
   },
   "source": [
    "## Case 2: Traffic density near Helsinki\n",
    "\n",
    "![snapshot_Helsinki.png](https://files.mude.citg.tudelft.nl/helsinki_highway.png)\n",
    "*Openstreetmap screenshot of the location of the measurement station from which this data has been sourced. Map data © [OpenStreetMap contributors](https://www.openstreetmap.org/copyright), licensed under [ODbL](https://opendatacommons.org/licenses/odbl/1-0/).*\n",
    "\n",
    "**What's the propagated uncertainty? *How large is the traffic density?***\n",
    "\n",
    "In this project, you have chosen to work on the traffic density on a highway close to Helsinki, Finland. You have observations of the flow of vehicles $F$ [#/h] and their average velocity $v$ [km/h]. The dataset has been accessed [here](https://www.digitraffic.fi/). In this exercise, we want to compute the density of traffic $D$ [#/km] along this path in both directions:\n",
    "\n",
    "$$\n",
    "D = \\frac{F}{v}\n",
    "$$\n",
    "\n",
    "**The goal of this project is:**\n",
    "1. Choose a reasonable distribution function for $F$ and $v$.\n",
    "2. Fit the chosen distributions to the observations of $F$ and $v$.\n",
    "3. Assuming $F$ and $v$ are independent, propagate their distributions to obtain a distribution for the traffic density $D$.\n",
    "4. Analyze the distribution of $D$."
   ]
  },
  {
   "cell_type": "markdown",
   "metadata": {
    "editable": true,
    "slideshow": {
     "slide_type": ""
    },
    "tags": []
   },
   "source": [
    "## Importing packages"
   ]
  },
  {
   "cell_type": "code",
   "execution_count": null,
   "metadata": {
    "editable": true,
    "slideshow": {
     "slide_type": ""
    },
    "tags": []
   },
   "outputs": [],
   "source": [
    "import numpy as np              # For math\n",
    "import matplotlib.pyplot as plt # For plotting\n",
    "from scipy import stats         # For math\n",
    "from math import ceil, trunc    # For plotting\n",
    "\n",
    "# This is just cosmetic - it updates the font size for our plots\n",
    "plt.rcParams.update({'font.size': 14})"
   ]
  },
  {
   "cell_type": "markdown",
   "metadata": {
    "editable": true,
    "slideshow": {
     "slide_type": ""
    },
    "tags": []
   },
   "source": [
    "## 1. Explore the data"
   ]
  },
  {
   "cell_type": "markdown",
   "metadata": {
    "editable": true,
    "slideshow": {
     "slide_type": ""
    },
    "tags": []
   },
   "source": [
    "The first step in the analysis is exploring the data, visually and through statistics. \n",
    "\n",
    "Tip: In the workshop files, you have used the pandas `.describe()` function to obtain the statistics of a data vector. `scipy.stats` has a similar function."
   ]
  },
  {
   "cell_type": "code",
   "execution_count": null,
   "metadata": {},
   "outputs": [],
   "source": [
    "import os\n",
    "from urllib.request import urlretrieve\n",
    "\n",
    "def findfile(fname):\n",
    "    if not os.path.isfile(fname):\n",
    "        print(f\"Downloading {fname}...\")\n",
    "        urlretrieve('http://files.mude.citg.tudelft.nl/GA1.4/'+fname, fname)\n",
    "\n",
    "findfile('dataset_traffic.csv')"
   ]
  },
  {
   "cell_type": "code",
   "execution_count": null,
   "metadata": {
    "editable": true,
    "slideshow": {
     "slide_type": ""
    },
    "tags": []
   },
   "outputs": [],
   "source": [
    "# Import the data from the .csv file\n",
    "F, v = np.genfromtxt('dataset_traffic.csv', delimiter=\",\", unpack=True, skip_header=True)\n",
    "\n",
    "# Plot the time series for the number of heavy vehicles H\n",
    "fig, ax = plt.subplots(2, 1, figsize=(10, 7), layout = 'constrained')\n",
    "ax[0].plot(F,'k')\n",
    "ax[0].set_xlabel('Time')\n",
    "ax[0].set_ylabel('Traffic flow $F$ [#/h]')\n",
    "ax[0].grid()\n",
    "\n",
    "# Plot the time series for the number of cars C\n",
    "ax[1].plot(v,'k')\n",
    "ax[1].set_xlabel('Time')\n",
    "ax[1].set_ylabel('Average velocity $v$ [km/h]')\n",
    "ax[1].grid()"
   ]
  },
  {
   "cell_type": "code",
   "execution_count": null,
   "metadata": {
    "editable": true,
    "slideshow": {
     "slide_type": ""
    },
    "tags": []
   },
   "outputs": [],
   "source": [
    "# Statistics for F\n",
    "print(stats.describe(F))"
   ]
  },
  {
   "cell_type": "code",
   "execution_count": null,
   "metadata": {
    "editable": true,
    "slideshow": {
     "slide_type": ""
    },
    "tags": []
   },
   "outputs": [],
   "source": [
    "# Statistics for v\n",
    "print(stats.describe(v))"
   ]
  },
  {
   "cell_type": "markdown",
   "metadata": {
    "editable": true,
    "slideshow": {
     "slide_type": ""
    },
    "tags": []
   },
   "source": [
    "<div style=\"background-color:#AABAB2; color: black; width:90%; vertical-align: middle; padding:15px; margin: 10px; border-radius: 10px\">\n",
    "<p>\n",
    "\n",
    "** Task 1: ** \n",
    "\n",
    "Describe the data based on the previous statistics:\n",
    "- Which variable features a higher variability? Also consider the magnitudes of the different variables.\n",
    "- What does the skewness coefficient represent? Which kind of distribution functions should we consider to fit based on this coefficient?\n",
    "  \n",
    "</p>\n",
    "</div>"
   ]
  },
  {
   "cell_type": "markdown",
   "metadata": {
    "editable": true,
    "slideshow": {
     "slide_type": ""
    },
    "tags": []
   },
   "source": [
    "## 2. Empirical distribution functions"
   ]
  },
  {
   "cell_type": "markdown",
   "metadata": {
    "editable": true,
    "slideshow": {
     "slide_type": ""
    },
    "tags": []
   },
   "source": [
    "Now, we are going to compute and plot the empirical PDF and CDF for each variable. Note that you have the pseudo-code for the empirical CDF in the [reader](https://mude.citg.tudelft.nl/book/2025/univariate_distributions/empirical.html)."
   ]
  },
  {
   "cell_type": "markdown",
   "metadata": {
    "editable": true,
    "slideshow": {
     "slide_type": ""
    },
    "tags": []
   },
   "source": [
    "<div style=\"background-color:#AABAB2; color: black; width:95%; vertical-align: middle; padding:15px; margin: 10px; border-radius: 10px\">\n",
    "<p>\n",
    "<b>Task 2:</b>  \n",
    " \n",
    "Define a function to compute the empirical CDF. Plot your empirical PDF and CDF.\n",
    "</p>\n",
    "</div>"
   ]
  },
  {
   "cell_type": "code",
   "execution_count": null,
   "metadata": {
    "editable": true,
    "slideshow": {
     "slide_type": ""
    },
    "tags": [
     "assignment"
    ]
   },
   "outputs": [],
   "source": [
    "# def ecdf(YOUR_CODE_HERE):\n",
    "#     \"\"\"Write a function that returns [non_exceedance_probabilities, sorted_values].\"\"\"\n",
    "#     YOUR_CODE_HERE # may be more than one line\n",
    "#     return [non_exceedance_probabilities, sorted_values]"
   ]
  },
  {
   "cell_type": "code",
   "execution_count": null,
   "metadata": {
    "editable": true,
    "slideshow": {
     "slide_type": ""
    },
    "tags": [
     "assignment"
    ]
   },
   "outputs": [],
   "source": [
    "### YOUR PLOTS HERE ###"
   ]
  },
  {
   "cell_type": "markdown",
   "metadata": {
    "editable": true,
    "slideshow": {
     "slide_type": ""
    },
    "tags": []
   },
   "source": [
    "<div style=\"background-color:#AABAB2; color: black; width:95%; vertical-align: middle; padding:15px; margin: 10px; border-radius: 10px\">\n",
    "<p>\n",
    "<b>Task 3:</b>   \n",
    "\n",
    "Based on the results of Task 1 and the empirical PDF and CDF, select <b>one</b> distribution to fit to each variable. \n",
    "- For $F$, select between an exponential or lognormal distribution.\n",
    "- For $v$ choose between a Gaussian and Gumbel distribution.\n",
    "\n",
    "</p>\n",
    "</div>"
   ]
  },
  {
   "cell_type": "markdown",
   "metadata": {
    "editable": true,
    "slideshow": {
     "slide_type": ""
    },
    "tags": []
   },
   "source": [
    "## 3. Fitting a distribution"
   ]
  },
  {
   "cell_type": "markdown",
   "metadata": {
    "editable": true,
    "slideshow": {
     "slide_type": ""
    },
    "tags": []
   },
   "source": [
    "<div style=\"background-color:#AABAB2; color: black; width:95%; vertical-align: middle; padding:15px; margin: 10px; border-radius: 10px\">\n",
    "<p>\n",
    "<b>Task 4:</b>  \n",
    " \n",
    "Fit the selected distributions to the observations using MLE (Maximum Likelihood Estimation).\n",
    "</p>\n",
    "</div>\n",
    "\n",
    "Hint: Use [Scipy](https://docs.scipy.org/doc/scipy/reference/stats.html)'s built-in functions (be careful with the parameter definitions!)."
   ]
  },
  {
   "cell_type": "code",
   "execution_count": null,
   "metadata": {
    "editable": true,
    "slideshow": {
     "slide_type": ""
    },
    "tags": [
     "assignment"
    ]
   },
   "outputs": [],
   "source": [
    "### YOUR CODE HERE ###"
   ]
  },
  {
   "cell_type": "markdown",
   "metadata": {
    "editable": true,
    "slideshow": {
     "slide_type": ""
    },
    "tags": []
   },
   "source": [
    "## 4. Assessing goodness of fit"
   ]
  },
  {
   "cell_type": "markdown",
   "metadata": {
    "editable": true,
    "slideshow": {
     "slide_type": ""
    },
    "tags": []
   },
   "source": [
    "<div style=\"background-color:#AABAB2; color: black; width:95%; vertical-align: middle; padding:15px; margin: 10px; border-radius: 10px\">\n",
    "<p>\n",
    "<b>Task 5:</b>  \n",
    " \n",
    "Assess the goodness of fit of the selected distribution using:\n",
    "- One graphical method: QQplot or Logscale. Choose one.\n",
    "- The Kolmogorov-Smirnov test.\n",
    "</p>\n",
    "</div>\n",
    "\n",
    "Hint: The Kolmogorov-Smirnov test is implemented in [Scipy](https://docs.scipy.org/doc/scipy/reference/stats.html)."
   ]
  },
  {
   "cell_type": "code",
   "execution_count": null,
   "metadata": {
    "editable": true,
    "slideshow": {
     "slide_type": ""
    },
    "tags": [
     "assignment"
    ]
   },
   "outputs": [],
   "source": [
    "### YOUR PLOTS HERE ###"
   ]
  },
  {
   "cell_type": "code",
   "execution_count": null,
   "metadata": {
    "editable": true,
    "slideshow": {
     "slide_type": ""
    },
    "tags": [
     "assignment"
    ]
   },
   "outputs": [],
   "source": [
    "### YOUR CODE HERE ###"
   ]
  },
  {
   "cell_type": "markdown",
   "metadata": {
    "editable": true,
    "slideshow": {
     "slide_type": ""
    },
    "tags": []
   },
   "source": [
    "<div style=\"background-color:#AABAB2; color: black; width:95%; vertical-align: middle; padding:15px; margin: 10px; border-radius: 10px\">\n",
    "<p>\n",
    "<b>Task 6:</b>  \n",
    " \n",
    "Interpret the results of the GOF techniques. How does the selected parametric distribution perform?\n",
    "</p>\n",
    "</div>"
   ]
  },
  {
   "cell_type": "markdown",
   "metadata": {
    "editable": true,
    "slideshow": {
     "slide_type": ""
    },
    "tags": []
   },
   "source": [
    "## 5. Propagating the uncertainty"
   ]
  },
  {
   "cell_type": "markdown",
   "metadata": {
    "editable": true,
    "slideshow": {
     "slide_type": ""
    },
    "tags": []
   },
   "source": [
    "Using the fitted distributions, we are going to propagate the uncertainty from $F$ and $v$ to compute the density of traffic $D$ **assuming that $F$ and $v$ are independent**.\n",
    "\n",
    "<div style=\"background-color:#AABAB2; color: black; width:95%; vertical-align: middle; padding:15px; margin: 10px; border-radius: 10px\">\n",
    "<p>\n",
    "<b>Task 7:</b>   \n",
    "    \n",
    "1. Draw 10,000 random samples from the fitted distribution functions for $F$ and $v$.\n",
    "    \n",
    "2. Compute the traffic density $D$ for each pair of the generated samples.\n",
    "    \n",
    "3. Compute the traffic density $D$ for the observations.\n",
    "    \n",
    "4. Plot the PDF and exceedance curve in logscale of traffic density $D$ computed using both the simulations and the observations.\n",
    "</p>\n",
    "</div>"
   ]
  },
  {
   "cell_type": "code",
   "execution_count": null,
   "metadata": {
    "editable": true,
    "slideshow": {
     "slide_type": ""
    },
    "tags": [
     "assignment"
    ]
   },
   "outputs": [],
   "source": [
    "# Draw random samples\n",
    "rs_F = ### YOUR CODE HERE ###\n",
    "rs_v = ### YOUR CODE HERE ###\n",
    "\n",
    "# Compute D\n",
    "rs_D = ### YOUR CODE HERE ###\n",
    "\n",
    "# Repeat for observations\n",
    "D = ### YOUR CODE HERE ###\n",
    "\n",
    "# Plot the PDF and the CDF"
   ]
  },
  {
   "cell_type": "markdown",
   "metadata": {
    "editable": true,
    "slideshow": {
     "slide_type": ""
    },
    "tags": []
   },
   "source": [
    "<div style=\"background-color:#AABAB2; color: black; width:95%; vertical-align: middle; padding:15px; margin: 10px; border-radius: 10px\">\n",
    "<p>\n",
    "<b>Task 8:</b>   \n",
    "\n",
    "Interpret the figures above, answering the following questions:\n",
    "- Are there differences between the two computed distributions for the traffic density $D$?\n",
    "- What are the advantages and disadvantages of using the simulations?\n",
    "</p>\n",
    "</div>"
   ]
  },
  {
   "cell_type": "markdown",
   "metadata": {
    "editable": true,
    "slideshow": {
     "slide_type": ""
    },
    "tags": []
   },
   "source": [
    "If you run the code in the cell below, you will obtain a scatter plot of both variables. Explore the relationship between both variables and answer the following questions:\n",
    "\n",
    "<div style=\"background-color:#AABAB2; color: black; width:95%; vertical-align: middle; padding:15px; margin: 10px; border-radius: 10px\">\n",
    "<p>\n",
    "<b>Task 9:</b>   \n",
    "    \n",
    "1. Observe the plot below. What differences do you observe between the generated samples and the observations?\n",
    "    \n",
    "2. What can you improve into the previous analysis? Do you have any ideas/suggestions on how to implement those suggestions?\n",
    "</p>\n",
    "</div>"
   ]
  },
  {
   "cell_type": "code",
   "execution_count": null,
   "metadata": {
    "editable": true,
    "slideshow": {
     "slide_type": ""
    },
    "tags": []
   },
   "outputs": [],
   "source": [
    "fig, axes = plt.subplots(1, 1, figsize=(7, 7))\n",
    "axes.scatter(rs_F, rs_v, 40, 'k', label = 'Simulations')\n",
    "axes.scatter(F, v, 40, 'r', marker = 'x', label = 'Observations')\n",
    "axes.set_xlabel('Traffic flow $F$ [#/h]')\n",
    "axes.set_ylabel('Average velocity $v$ [km/h]')\n",
    "axes.legend(loc = \"upper right\")\n",
    "axes.grid()\n",
    "plt.savefig(\"scatterplot.png\",dpi=300)"
   ]
  },
  {
   "cell_type": "markdown",
   "metadata": {},
   "source": [
    "> By Max Ramgraber, Patricia Mares Nasarre and Robert Lanzafame, Delft University of Technology. CC BY 4.0, more info [on the Credits page of Workbook](https://mude.citg.tudelft.nl/workbook-2025/credits.html)."
   ]
  }
 ],
 "metadata": {
  "kernelspec": {
   "display_name": "mude-base",
   "language": "python",
   "name": "python3"
  },
  "language_info": {
   "codemirror_mode": {
    "name": "ipython",
    "version": 3
   },
   "file_extension": ".py",
   "mimetype": "text/x-python",
   "name": "python",
   "nbconvert_exporter": "python",
   "pygments_lexer": "ipython3",
   "version": "3.12.11"
  }
 },
 "nbformat": 4,
 "nbformat_minor": 4
}
