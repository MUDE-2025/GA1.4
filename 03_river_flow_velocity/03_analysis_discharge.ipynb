{
 "cells": [
  {
   "cell_type": "markdown",
   "metadata": {
    "editable": true,
    "slideshow": {
     "slide_type": ""
    },
    "tags": []
   },
   "source": [
    "# Group assignment 1.4 Distribution fitting\n",
    "\n",
    "*[CEGM1000 MUDE](http://mude.citg.tudelft.nl/)*\n",
    "\n",
    "*Written by: Patricia Mares Nasarre, Robert Lanzafame, and Max Ramgraber*\n",
    "\n",
    "*Due: Friday, September 26th 2025.*"
   ]
  },
  {
   "attachments": {},
   "cell_type": "markdown",
   "metadata": {
    "editable": true,
    "slideshow": {
     "slide_type": ""
    },
    "tags": []
   },
   "source": [
    "## Case 3: Flow velocity of the river Thames\n",
    "\n",
    "![stationImage.jpg](https://nrfaapps.ceh.ac.uk/nrfa/image/nrfaImage/stationImage.jpg?id=NRFA_D007232&category=H490L)\n",
    "\n",
    "*A photo from near the measuring station at Kingston, taken from [here](https://nrfa.ceh.ac.uk/data/station/gallery/39001). Photo of station 39001 from the National River Flow Archive (UK Centre for Ecology & Hydrology). All rights reserved unless stated otherwise.*\n",
    "\n",
    "**What is the propagated uncertainty? *How fast does the river Thames flow at Kingston?***\n",
    "\n",
    "In this project, you have chosen to work on the uncertainty of water depths ($h$ [m]) and flow rate ($q$ [m³/s]) of a river. You have observations every 15 minutes from a station at the river Thames at Kingston, UK, over one month. The data has been taken from the Department for Environment\n",
    "Food & Rural Affairs' Data Services platform [here](https://environment.data.gov.uk/flood-monitoring/id/stations/3400TH). Remember that the discharge can be computed as\n",
    "\n",
    "$$\n",
    "q = u S\n",
    "$$\n",
    "\n",
    "where $u$ [m/s] is the flow velocity and $S$ [m²] is the cross-sectional area of the flow. The cross-sectional area, simplified to a rectangle, can be computed as $S = h*w$ , where $w$ [m] is the width of the river at the measuring station. Here, we have already corrected for the datum of the the water depths $h$, so the values in the dataset are relative to river bed. For simplicity, we can  at the station.\n",
    "\n",
    "Thus, assuming a discharge width of $w=100$ m, we can simplify the previous equation as\n",
    "\n",
    "$$\n",
    "\\begin{aligned}\n",
    "q &= u \\cdot w \\cdot h  \\\\\n",
    "u &= \\frac{q}{w \\cdot h}  \\\\\n",
    "u &= \\frac{q}{95 \\cdot h}  \\\\\n",
    "\\end{aligned}\n",
    "$$\n",
    "\n",
    "**The goal of this project is:**\n",
    "1. Choose a reasonable distribution function for $q$ and $h$.\n",
    "2. Fit the chosen distributions to the observations of $q$ and $h$.\n",
    "3. Assuming $q$ and $h$ are independent, propagate their distributions to obtain the distribution of $u$.\n",
    "4. Analyze the distribution of $u$."
   ]
  },
  {
   "cell_type": "markdown",
   "metadata": {
    "editable": true,
    "slideshow": {
     "slide_type": ""
    },
    "tags": []
   },
   "source": [
    "## Importing packages"
   ]
  },
  {
   "cell_type": "code",
   "execution_count": null,
   "metadata": {
    "editable": true,
    "slideshow": {
     "slide_type": ""
    },
    "tags": []
   },
   "outputs": [],
   "source": [
    "import numpy as np              # For math\n",
    "import matplotlib.pyplot as plt # For plotting\n",
    "from scipy import stats         # For math\n",
    "from math import ceil, trunc    # For plotting\n",
    "\n",
    "# This is just cosmetic - it updates the font size for our plots\n",
    "plt.rcParams.update({'font.size': 14})"
   ]
  },
  {
   "cell_type": "markdown",
   "metadata": {
    "editable": true,
    "slideshow": {
     "slide_type": ""
    },
    "tags": []
   },
   "source": [
    "## 1. Explore the data"
   ]
  },
  {
   "cell_type": "markdown",
   "metadata": {
    "editable": true,
    "slideshow": {
     "slide_type": ""
    },
    "tags": []
   },
   "source": [
    "The first step in the analysis is exploring the data, visually and through statistics. \n",
    "\n",
    "Tip: In the workshop files, you have used the pandas `.describe()` function to obtain the statistics of a data vector. `scipy.stats` has a similar function."
   ]
  },
  {
   "cell_type": "code",
   "execution_count": null,
   "metadata": {},
   "outputs": [],
   "source": [
    "import os\n",
    "from urllib.request import urlretrieve\n",
    "\n",
    "def findfile(fname):\n",
    "    if not os.path.isfile(fname):\n",
    "        print(f\"Downloading {fname}...\")\n",
    "        urlretrieve('http://files.mude.citg.tudelft.nl/GA1.4/'+fname, fname)\n",
    "\n",
    "findfile('dataset_thames.csv')"
   ]
  },
  {
   "cell_type": "code",
   "execution_count": null,
   "metadata": {
    "editable": true,
    "slideshow": {
     "slide_type": ""
    },
    "tags": []
   },
   "outputs": [],
   "source": [
    "# Import the data from the .csv file\n",
    "h, q = np.genfromtxt('dataset_thames.csv', delimiter=\",\", unpack=True, skip_header=True)\n",
    "\n",
    "# Plot the time series for the water depth\n",
    "fig, ax = plt.subplots(2, 1, figsize=(10, 7), layout = 'constrained')\n",
    "ax[0].plot(h,'k')\n",
    "ax[0].set_xlabel('Time')\n",
    "ax[0].set_ylabel('Water depth $h$ [m]')\n",
    "ax[0].grid()\n",
    "\n",
    "# Plot the time series for the flow rate\n",
    "ax[1].plot(q,'k')\n",
    "ax[1].set_xlabel('Time')\n",
    "ax[1].set_ylabel('Flow rate $q$ [m³/s]')\n",
    "ax[1].grid()"
   ]
  },
  {
   "cell_type": "code",
   "execution_count": null,
   "metadata": {
    "editable": true,
    "slideshow": {
     "slide_type": ""
    },
    "tags": []
   },
   "outputs": [],
   "source": [
    "# Statistics for h\n",
    "print(stats.describe(h))"
   ]
  },
  {
   "cell_type": "code",
   "execution_count": null,
   "metadata": {
    "editable": true,
    "slideshow": {
     "slide_type": ""
    },
    "tags": []
   },
   "outputs": [],
   "source": [
    "# Statistics for q\n",
    "print(stats.describe(q))"
   ]
  },
  {
   "cell_type": "markdown",
   "metadata": {
    "editable": true,
    "slideshow": {
     "slide_type": ""
    },
    "tags": []
   },
   "source": [
    "<div style=\"background-color:#AABAB2; color: black; width:90%; vertical-align: middle; padding:15px; margin: 10px; border-radius: 10px\">\n",
    "<p>\n",
    "<b>Task 1:</b>\n",
    "\n",
    "Describe the data based on the previous statistics:\n",
    "- Which variable features a higher variability? Also consider the magnitudes of the different variables.\n",
    "- What does the skewness coefficient represent? Which kind of distribution functions should we consider to fit based on this coefficient?\n",
    "</p>\n",
    "</div>"
   ]
  },
  {
   "cell_type": "markdown",
   "metadata": {
    "editable": true,
    "slideshow": {
     "slide_type": ""
    },
    "tags": [
     "solution"
    ]
   },
   "source": [
    "<div style=\"background-color:#FAE99E; color: black; width:95%; vertical-align: middle; padding:15px; margin: 10px; border-radius: 10px\">\n",
    "    <b>Solution:</b>\n",
    "\n",
    "- $h$ and $q$ have a similar mean, but $h$ has significantly lower variance. To compare the variability of variables with different magnitudes, it can be useful to compute the <b>coefficient of variation</b>, which normalizes the standard deviation against the mean. If we do so, we obtain $CV(h)=\\sigma/\\mu=\\sqrt{0.000539}/3.402 = 0.007$ and $CV(q)=\\sigma/\\mu= \\sqrt{6.718}/8.657 = 0.299$. Thus, $q$ has significantly higher variability than $h$.\n",
    "- Both $h$ and $q$ have a positive non-zero skewness, with the one for $q$ being significantly higher. Thus, the data presents a right tail and mode < median < mean. An appropriate distribution for $h$ and $q$ would be one which: (1) it is bounded in 0 (no negative values of $h$ or $q$ are physically possible), and (2) has a positive tail. If we consider the distributions that you have been introduced to, Lognormal, Gumbel or Exponential distributions would be a possibility.\n",
    "</div>"
   ]
  },
  {
   "cell_type": "markdown",
   "metadata": {
    "editable": true,
    "slideshow": {
     "slide_type": ""
    },
    "tags": []
   },
   "source": [
    "## 2. Empirical distribution functions"
   ]
  },
  {
   "cell_type": "markdown",
   "metadata": {
    "editable": true,
    "slideshow": {
     "slide_type": ""
    },
    "tags": []
   },
   "source": [
    "Now, we are going to compute and plot the empirical PDF and CDF for each variable. Note that you have the pseudo-code for the empirical CDF in the [reader](https://mude.citg.tudelft.nl/book/2025/univariate_distributions/empirical.html)."
   ]
  },
  {
   "cell_type": "markdown",
   "metadata": {
    "editable": true,
    "slideshow": {
     "slide_type": ""
    },
    "tags": []
   },
   "source": [
    "<div style=\"background-color:#AABAB2; color: black; width:95%; vertical-align: middle; padding:15px; margin: 10px; border-radius: 10px\">\n",
    "<p>\n",
    "<b>Task 2:</b>  \n",
    " \n",
    "Define a function to compute the empirical CDF. Plot your empirical PDF and CDF.\n",
    "</p>\n",
    "</div>"
   ]
  },
  {
   "cell_type": "code",
   "execution_count": null,
   "metadata": {
    "editable": true,
    "slideshow": {
     "slide_type": ""
    },
    "tags": [
     "solution"
    ]
   },
   "outputs": [],
   "source": [
    "def ecdf(observations):\n",
    "    \"\"\"Write a function that returns [non_exceedance_probabilities, sorted_values].\"\"\"\n",
    "    sorted_values = np.sort(observations)\n",
    "    n = sorted_values.size\n",
    "    non_exceedance_probabilities = np.arange(1, n+1) / (n + 1)\n",
    "    return [non_exceedance_probabilities, sorted_values]"
   ]
  },
  {
   "cell_type": "code",
   "execution_count": null,
   "metadata": {
    "editable": true,
    "slideshow": {
     "slide_type": ""
    },
    "tags": [
     "assignment"
    ]
   },
   "outputs": [],
   "source": [
    "# def ecdf(YOUR_CODE_HERE):\n",
    "#     \"\"\"Write a function that returns [non_exceedance_probabilities, sorted_values].\"\"\"\n",
    "#     YOUR_CODE_HERE # may be more than one line\n",
    "#     return [non_exceedance_probabilities, sorted_values]"
   ]
  },
  {
   "cell_type": "code",
   "execution_count": null,
   "metadata": {
    "editable": true,
    "slideshow": {
     "slide_type": ""
    },
    "tags": [
     "solution"
    ]
   },
   "outputs": [],
   "source": [
    "fig, axes = plt.subplots(2, 2, figsize=(12, 12))\n",
    "\n",
    "# Plot the PDF of h\n",
    "axes[0,0].hist(h, edgecolor='k', linewidth=0.2, rwidth = 0.9, color='cornflowerblue', density = True, bins = 10)\n",
    "axes[0,0].set_xlabel('Water depth $h$ [m]')\n",
    "axes[0,0].set_ylabel('density')\n",
    "axes[0,0].set_title('empirical PDF of $h$')\n",
    "axes[0,0].grid()\n",
    "\n",
    "# Plot the PDF of q\n",
    "axes[0,1].hist(q, edgecolor='k', linewidth=0.2, rwidth = 0.9,color='cornflowerblue', density = True, bins = 10)\n",
    "axes[0,1].set_xlabel('Flow rate $q$ [m³/s]')\n",
    "axes[0,1].set_ylabel('density')\n",
    "axes[0,1].set_title('empirical PDF of $q$')\n",
    "axes[0,1].grid()\n",
    "\n",
    "# Plot the empirical CDF of h\n",
    "axes[1,0].step(ecdf(h)[1], ecdf(h)[0], color='cornflowerblue')\n",
    "axes[1,0].set_xlabel('Water depth $h$ [m]')\n",
    "axes[1,0].set_ylabel(r'${P[X \\leq x]}$')\n",
    "axes[1,0].set_title('empirical CDF of $h$')\n",
    "axes[1,0].grid()\n",
    "\n",
    "# Plot the empirical CDF of q\n",
    "axes[1,1].step(ecdf(q)[1], ecdf(q)[0], color='cornflowerblue')\n",
    "axes[1,1].set_xlabel('Flow rate $q$ [m³/s]')\n",
    "axes[1,1].set_ylabel(r'${P[X \\leq x]}$')\n",
    "axes[1,1].set_title('empirical CDF of $q$')\n",
    "axes[1,1].grid()"
   ]
  },
  {
   "cell_type": "code",
   "execution_count": null,
   "metadata": {
    "editable": true,
    "slideshow": {
     "slide_type": ""
    },
    "tags": [
     "assignment"
    ]
   },
   "outputs": [],
   "source": [
    "### YOUR PLOTS HERE ###"
   ]
  },
  {
   "cell_type": "markdown",
   "metadata": {
    "editable": true,
    "slideshow": {
     "slide_type": ""
    },
    "tags": []
   },
   "source": [
    "<div style=\"background-color:#AABAB2; color: black; width:95%; vertical-align: middle; padding:15px; margin: 10px; border-radius: 10px\">\n",
    "<p>\n",
    "<b>Task 3:</b>   \n",
    "\n",
    "Based on the results of Task 1 and the empirical PDF and CDF, select <b>one</b> distribution to fit to each variable. \n",
    "- For $h$, select between a Uniform or lognormal distribution.</li>\n",
    "- For $q$ choose between a Gaussian or Gumbel distribution.</li>\n",
    "\n",
    "</p>\n",
    "</div>"
   ]
  },
  {
   "cell_type": "markdown",
   "metadata": {
    "editable": true,
    "slideshow": {
     "slide_type": ""
    },
    "tags": [
     "solution"
    ]
   },
   "source": [
    "<div style=\"background-color:#FAE99E; color: black; width:95%; vertical-align: middle; padding:15px; margin: 10px; border-radius: 10px\">\n",
    "    <b>Solution:</b>\n",
    "\n",
    "$h$: Lognormal - Reasoning: This distribution is clearly not uniform, and the positive skewness suggests we need a right-tailed distribution.\n",
    "\n",
    "$q$: Gumbel - Reasoning: This distribution has a clear right tail, so a symmetric distribution like the Gaussian is not an option. Be aware that both the Gaussian and Gumbel distributions are unbounded, which may enter permit impossible negative values.\n",
    "</div>\n",
    "</div>"
   ]
  },
  {
   "cell_type": "markdown",
   "metadata": {
    "editable": true,
    "slideshow": {
     "slide_type": ""
    },
    "tags": []
   },
   "source": [
    "## 3. Fitting a distribution"
   ]
  },
  {
   "cell_type": "markdown",
   "metadata": {
    "editable": true,
    "slideshow": {
     "slide_type": ""
    },
    "tags": []
   },
   "source": [
    "<div style=\"background-color:#AABAB2; color: black; width:95%; vertical-align: middle; padding:15px; margin: 10px; border-radius: 10px\">\n",
    "<p>\n",
    "<b>Task 4:</b>  \n",
    " \n",
    "Fit the selected distributions to the observations using MLE (Maximum Likelihood Estimation).\n",
    "</p>\n",
    "</div>\n",
    "\n",
    "Hint: Use [Scipy](https://docs.scipy.org/doc/scipy/reference/stats.html)'s built-in functions (be careful with the parameter definitions!)."
   ]
  },
  {
   "cell_type": "code",
   "execution_count": null,
   "metadata": {
    "editable": true,
    "slideshow": {
     "slide_type": ""
    },
    "tags": [
     "solution"
    ]
   },
   "outputs": [],
   "source": [
    "params_h = stats.lognorm.fit(h)\n",
    "params_q = stats.gumbel_r.fit(q)"
   ]
  },
  {
   "cell_type": "code",
   "execution_count": null,
   "metadata": {
    "editable": true,
    "slideshow": {
     "slide_type": ""
    },
    "tags": [
     "assignment"
    ]
   },
   "outputs": [],
   "source": [
    "### YOUR CODE HERE ###"
   ]
  },
  {
   "cell_type": "markdown",
   "metadata": {
    "editable": true,
    "slideshow": {
     "slide_type": ""
    },
    "tags": []
   },
   "source": [
    "## 4. Assessing goodness of fit"
   ]
  },
  {
   "cell_type": "markdown",
   "metadata": {
    "editable": true,
    "slideshow": {
     "slide_type": ""
    },
    "tags": []
   },
   "source": [
    "<div style=\"background-color:#AABAB2; color: black; width:95%; vertical-align: middle; padding:15px; margin: 10px; border-radius: 10px\">\n",
    "<p>\n",
    "<b>Task 5:</b>  \n",
    " \n",
    "Assess the goodness of fit of the selected distribution using:\n",
    "- One graphical method: QQplot or Logscale. Choose one.\n",
    "- The Kolmogorov-Smirnov test.\n",
    "</p>\n",
    "</div>\n",
    "\n",
    "Hint: The Kolmogorov-Smirnov test is implemented in [Scipy](https://docs.scipy.org/doc/scipy/reference/stats.html)."
   ]
  },
  {
   "cell_type": "code",
   "execution_count": null,
   "metadata": {
    "editable": true,
    "slideshow": {
     "slide_type": ""
    },
    "tags": [
     "solution"
    ]
   },
   "outputs": [],
   "source": [
    "# Graphical method\n",
    "\n",
    "# Logscale\n",
    "fig, axes = plt.subplots(1, 2, figsize=(14, 5))\n",
    "\n",
    "axes[0].step(ecdf(h)[1], 1-ecdf(h)[0], color='k', label='Water depth $h$ [m]')\n",
    "axes[0].plot(ecdf(h)[1], 1-stats.lognorm.cdf(ecdf(h)[1], *params_h), '--', color = 'grey', label='lognormal')\n",
    "axes[0].set_xlabel('Water depth $h$ [m]')\n",
    "axes[0].set_ylabel('${P[X > x]}$')\n",
    "axes[0].set_title('$h$', fontsize=18)\n",
    "axes[0].set_yscale('log')\n",
    "axes[0].legend(loc = \"upper right\")\n",
    "axes[0].grid()\n",
    "\n",
    "axes[1].step(ecdf(q)[1], 1-ecdf(q)[0], color='k', label='Flow rate $q$ [m³/s]')\n",
    "axes[1].plot(ecdf(q)[1], 1-stats.gumbel_r.cdf(ecdf(q)[1], *params_q), '--', color = 'grey', label='Gumbel')\n",
    "axes[1].set_xlabel('Flow rate $q$ [m³/s]')\n",
    "axes[1].set_ylabel('${P[X > x]}$')\n",
    "axes[1].set_title('$q$', fontsize=18)\n",
    "axes[1].set_yscale('log')\n",
    "axes[1].legend(loc = \"upper right\")\n",
    "axes[1].grid()"
   ]
  },
  {
   "cell_type": "code",
   "execution_count": null,
   "metadata": {
    "editable": true,
    "slideshow": {
     "slide_type": ""
    },
    "tags": [
     "solution"
    ]
   },
   "outputs": [],
   "source": [
    "# QQ plot\n",
    "fig, axes = plt.subplots(1, 2, figsize=(14, 5))\n",
    "\n",
    "axes[0].plot([trunc(min(h)), ceil(max(h))], [trunc(min(h)), ceil(max(h))], 'k')\n",
    "axes[0].scatter(ecdf(h)[1], stats.lognorm.ppf(ecdf(h)[0], *params_h), color='grey', label='lognormal')\n",
    "axes[0].set_xlabel('Observed water depth $h$ [m]')\n",
    "axes[0].set_ylabel('Estimated water depth $h$ [m]')\n",
    "axes[0].set_title('$h$', fontsize=18)\n",
    "axes[0].set_xlim([trunc(min(h)), ceil(max(h))])\n",
    "axes[0].set_ylim([trunc(min(h)), ceil(max(h))])\n",
    "axes[0].legend(loc = \"upper right\")\n",
    "axes[0].grid()\n",
    "\n",
    "axes[1].plot([trunc(min(q)), ceil(max(q))], [trunc(min(q)), ceil(max(q))], 'k')\n",
    "axes[1].scatter(ecdf(q)[1], stats.gumbel_r.ppf(ecdf(q)[0], *params_q), color='grey', label='Gumbel')\n",
    "axes[1].set_xlabel('Observed flow rate $q$ [m³/s]')\n",
    "axes[1].set_ylabel('Estimated flow rate $q$ [m³/s]')\n",
    "axes[1].set_title('$q$', fontsize=18)\n",
    "axes[1].set_xlim([trunc(min(q)), ceil(max(q))])\n",
    "axes[1].set_ylim([trunc(min(q)), ceil(max(q))])\n",
    "axes[1].legend(loc = \"upper right\")\n",
    "axes[1].grid()"
   ]
  },
  {
   "cell_type": "code",
   "execution_count": null,
   "metadata": {
    "editable": true,
    "slideshow": {
     "slide_type": ""
    },
    "tags": [
     "assignment"
    ]
   },
   "outputs": [],
   "source": [
    "### YOUR PLOTS HERE ###"
   ]
  },
  {
   "cell_type": "code",
   "execution_count": null,
   "metadata": {
    "editable": true,
    "slideshow": {
     "slide_type": ""
    },
    "tags": [
     "solution"
    ]
   },
   "outputs": [],
   "source": [
    "# KS test\n",
    "_, p_h = stats.kstest(h,stats.lognorm.cdf, args=params_h)\n",
    "_, p_q = stats.kstest(q,stats.gumbel_r.cdf, args=params_q)\n",
    "\n",
    "print('The p-value for the fitted lognormal distribution to h is:', round(p_h, 3))\n",
    "print('The p-value for the fitted Gumbel distribution to q is:', round(p_q, 3))"
   ]
  },
  {
   "cell_type": "code",
   "execution_count": null,
   "metadata": {
    "editable": true,
    "slideshow": {
     "slide_type": ""
    },
    "tags": [
     "assignment"
    ]
   },
   "outputs": [],
   "source": [
    "### YOUR CODE HERE ###"
   ]
  },
  {
   "cell_type": "markdown",
   "metadata": {
    "editable": true,
    "slideshow": {
     "slide_type": ""
    },
    "tags": []
   },
   "source": [
    "<div style=\"background-color:#AABAB2; color: black; width:95%; vertical-align: middle; padding:15px; margin: 10px; border-radius: 10px\">\n",
    "<p>\n",
    "<b>Task 6:</b>  \n",
    " \n",
    "Interpret the results of the GOF techniques. How does the selected parametric distribution perform?\n",
    "</p>\n",
    "</div>"
   ]
  },
  {
   "cell_type": "markdown",
   "metadata": {
    "editable": true,
    "slideshow": {
     "slide_type": ""
    },
    "tags": [
     "solution"
    ]
   },
   "source": [
    "<div style=\"background-color:#FAE99E; color: black; width:95%; vertical-align: middle; padding:15px; margin: 10px; border-radius: 10px\">\n",
    "    <b>Solution:</b>\n",
    "    \n",
    "- <b>Logscale plot</b>: This technique allows to visually assess the fitting of the parametric distribution to the tail of the empirical distribution. For $h$ and $q$, the lognormal and Gumbel distribution does not agree with the empirical distribution in the right tail very well. In both cases, high values start to slightly deviate from the empirical distribution, indicating that for lower non-exceedance probabilities it might not be a good fit. </li>\n",
    "- <b>QQ plot</b>: Similar conclusions to those for Logscale can be derived. Here, we can also see that both distributions deviate slightly in the left tail, too.\n",
    "- <b>Kolmogorov-Smirnov test</b>: remember that the test statistic measures the difference between two distributions. The p-value then represents the probability of observing a difference at least that large for a sample from the assumed distribution. If p-value is lower than the significance ($\\alpha=0.05$, for instance), the null hypothesis is rejected. Considering here $\\alpha=0.05$, we can reject the hypothesis that the variable $h$ comes from a lognormal distribution and that $q$ comes from a Gumbel distribution.\n",
    "</div>"
   ]
  },
  {
   "cell_type": "markdown",
   "metadata": {
    "editable": true,
    "slideshow": {
     "slide_type": ""
    },
    "tags": []
   },
   "source": [
    "## 5. Propagating the uncertainty"
   ]
  },
  {
   "cell_type": "markdown",
   "metadata": {
    "editable": true,
    "slideshow": {
     "slide_type": ""
    },
    "tags": []
   },
   "source": [
    "Using the fitted distributions, we are going to propagate the uncertainty from $h$ and $q$ to $u$ **assuming that $h$ and $q$ are independent**.\n",
    "\n",
    "<div style=\"background-color:#AABAB2; color: black; width:95%; vertical-align: middle; padding:15px; margin: 10px; border-radius: 10px\">\n",
    "<p>\n",
    "<b>Task 7:</b>   \n",
    "    \n",
    "1. Draw 10,000 random samples from the fitted distribution functions for $h$ and $q$.\n",
    "    \n",
    "2. Compute $u$ for each pair of the generated samples.\n",
    "    \n",
    "3. Compute $u$ for the observations.\n",
    "    \n",
    "4. Plot the PDF and exceedance curve in logscale of $u$ computed using both the simulations and the observations.\n",
    "</p>\n",
    "</div>"
   ]
  },
  {
   "cell_type": "code",
   "execution_count": null,
   "metadata": {
    "editable": true,
    "slideshow": {
     "slide_type": ""
    },
    "tags": [
     "solution"
    ]
   },
   "outputs": [],
   "source": [
    "# Here, the solution is shown for the Lognormal distribution\n",
    "\n",
    "# Draw random samples\n",
    "rs_h = stats.lognorm.rvs(*params_h, size = 10000)\n",
    "rs_q = stats.gumbel_r.rvs(*params_q, size = 10000)\n",
    "\n",
    "# Compute u\n",
    "rs_u = rs_q / rs_h / 95\n",
    "\n",
    "# Repeat for observations\n",
    "u = q / h / 95\n",
    "\n",
    "# Plot the PDF and the CDF\n",
    "fig, axes = plt.subplots(1, 2, figsize=(12, 7))\n",
    "axes[0].hist(rs_q, edgecolor='k', linewidth=0.2, density = True, label = 'From simulations', bins = 10, rwidth = 0.9)\n",
    "axes[0].hist(q, edgecolor='k', facecolor = 'orange', alpha = 0.5, linewidth=0.2, bins = 10, rwidth = 0.9,\n",
    "             density = True, label = 'From observations')\n",
    "axes[0].set_xlabel('Flow velocity $u$ [m/s]')\n",
    "axes[0].set_ylabel('density')\n",
    "axes[0].set_title('PDF', fontsize=18)\n",
    "axes[0].legend()\n",
    "axes[0].grid()\n",
    "\n",
    "axes[1].step(ecdf(rs_q)[1], 1-ecdf(rs_q)[0], label = 'From simulations')\n",
    "axes[1].step(ecdf(q)[1], 1-ecdf(q)[0], color = 'orange', label = 'From observations')\n",
    "axes[1].set_xlabel('Flow velocity $u$ [m/s]')\n",
    "axes[1].set_ylabel('${P[X > x]}$')\n",
    "axes[1].set_title('Exceedance plot', fontsize=18)\n",
    "axes[1].set_yscale('log')\n",
    "axes[1].legend()\n",
    "axes[1].grid()"
   ]
  },
  {
   "cell_type": "code",
   "execution_count": null,
   "metadata": {
    "editable": true,
    "slideshow": {
     "slide_type": ""
    },
    "tags": [
     "assignment"
    ]
   },
   "outputs": [],
   "source": [
    "# Draw random samples\n",
    "rs_h = ### YOUR CODE HERE ###\n",
    "rs_q = ### YOUR CODE HERE ###\n",
    "\n",
    "# Compute u\n",
    "rs_u = ### YOUR CODE HERE ###\n",
    "\n",
    "# Repeat for observations\n",
    "u = ### YOUR CODE HERE ###\n",
    "\n",
    "# Plot the PDF and the CDF"
   ]
  },
  {
   "cell_type": "markdown",
   "metadata": {
    "editable": true,
    "slideshow": {
     "slide_type": ""
    },
    "tags": []
   },
   "source": [
    "<div style=\"background-color:#AABAB2; color: black; width:95%; vertical-align: middle; padding:15px; margin: 10px; border-radius: 10px\">\n",
    "<p>\n",
    "<b>Task 8:</b>  \n",
    " \n",
    "Interpret the figures above, answering the following questions:\n",
    "- Are there differences between the two computed distributions for $q$?</li>\n",
    "- What are the advantages and disadvantages of using the simulations?</li>\n",
    "</p>\n",
    "</div>"
   ]
  },
  {
   "cell_type": "markdown",
   "metadata": {
    "editable": true,
    "slideshow": {
     "slide_type": ""
    },
    "tags": []
   },
   "source": [
    "<div style=\"background-color:#FAE99E; color: black; width:95%; vertical-align: middle; padding:15px; margin: 10px; border-radius: 10px\">\n",
    "    <b>Solution:</b>\n",
    "\n",
    "- In the PDF plot, we can see that the shape of the distribution is similar for $u$. In the CDF plot, we can see that there are significant differences in the tail of the distribution of $u$. Specifically, the values from the observations are lower than those computed from the simulations. This is because the both distributions overestimated the exceedance probability in the right tails, also leading to larger predictions of the flow velocity.\n",
    "- <b>Disadvantages:</b> we are assuming that $h$ and $q$ are independent (we will see how to address this issue next week). But is that true? Also, the results are conditioned to how good model is the selected parametric distribution. In this case, since the tail of the distribution of $h$ is not properly fitted, the obtained distribution for $u$ deviates from the one obtained from the observations.\n",
    "- <b>Advantages:</b> I can draw all the samples I want allowing the computation of events I have not observed yet (extreme events).\n",
    "</div>"
   ]
  },
  {
   "cell_type": "markdown",
   "metadata": {
    "editable": true,
    "slideshow": {
     "slide_type": ""
    },
    "tags": []
   },
   "source": [
    "If you run the code in the cell below, you will obtain a scatter plot of both variables. Explore the relationship between both variables and answer the following questions:\n",
    "\n",
    "<div style=\"background-color:#AABAB2; color: black; width:95%; vertical-align: middle; padding:15px; margin: 10px; border-radius: 10px\">\n",
    "<p>\n",
    "<b>Task 9:</b>   \n",
    "    \n",
    "1. Observe the plot below. What differences do you observe between the generated samples and the observations?\n",
    "    \n",
    "2. What can you improve the previous analyses? Do you have any ideas/suggestions on how to implement those suggestions?\n",
    "</p>\n",
    "</div>"
   ]
  },
  {
   "cell_type": "code",
   "execution_count": null,
   "metadata": {
    "editable": true,
    "slideshow": {
     "slide_type": ""
    },
    "tags": []
   },
   "outputs": [],
   "source": [
    "fig, axes = plt.subplots(1, 1, figsize=(7, 7))\n",
    "axes.scatter(rs_h, rs_q, 40, 'k', label = 'Simulations')\n",
    "axes.scatter(h, q, 40, 'r', marker = 'x', label = 'Observations')\n",
    "axes.set_xlabel('Water depth $h$ [m]')\n",
    "axes.set_ylabel('Flow rate $q$ [m³/s]')\n",
    "axes.legend()\n",
    "axes.grid\n",
    "plt.savefig(\"scatterplot.png\",dpi=300)"
   ]
  },
  {
   "cell_type": "markdown",
   "metadata": {
    "editable": true,
    "slideshow": {
     "slide_type": ""
    },
    "tags": [
     "solution"
    ]
   },
   "source": [
    "<div style=\"background-color:#FAE99E; color: black; width:95%; vertical-align: middle; padding:15px; margin: 10px; border-radius: 10px\">\n",
    "    <b>Solution:</b>\n",
    "\n",
    "- The observations along a narrow drop-shaped area of the plot, whereas the simulations are spread all around. This is because the observations are dependent, since there is a physical relationship between the water depth and the velocity of the flow, while the simulations were assumed to be independent.\n",
    "- <b>Some suggestions:</b> Improve the fit in the tail for $h$ and $q$. Account for the dependence between the two variables.\n",
    "</div>"
   ]
  },
  {
   "cell_type": "markdown",
   "metadata": {
    "editable": true,
    "slideshow": {
     "slide_type": ""
    },
    "tags": []
   },
   "source": [
    "<div style=\"margin-top: 50px; padding-top: 20px; border-top: 1px solid #ccc;\">\n",
    "  <div style=\"display: flex; justify-content: flex-end; gap: 20px; align-items: center;\">\n",
    "    <a rel=\"MUDE\" href=\"http://mude.citg.tudelft.nl/\">\n",
    "      <img alt=\"MUDE\" style=\"width:100px; height:auto;\" src=\"https://gitlab.tudelft.nl/mude/public/-/raw/main/mude-logo/MUDE_Logo-small.png\" />\n",
    "    </a>\n",
    "    <a rel=\"TU Delft\" href=\"https://www.tudelft.nl/en/ceg\">\n",
    "      <img alt=\"TU Delft\" style=\"width:100px; height:auto;\" src=\"https://gitlab.tudelft.nl/mude/public/-/raw/main/tu-logo/TU_P1_full-color.png\" />\n",
    "    </a>\n",
    "    <a rel=\"license\" href=\"http://creativecommons.org/licenses/by/4.0/\">\n",
    "      <img alt=\"Creative Commons License\" style=\"width:88px; height:auto;\" src=\"https://i.creativecommons.org/l/by/4.0/88x31.png\" />\n",
    "    </a>\n",
    "  </div>\n",
    "  <div style=\"font-size: 75%; margin-top: 10px; text-align: right;\">\n",
    "    &copy; Copyright 2025 <a rel=\"MUDE\" href=\"http://mude.citg.tudelft.nl/\">MUDE</a> TU Delft. \n",
    "    This work is licensed under a <a rel=\"license\" href=\"http://creativecommons.org/licenses/by/4.0/\">CC BY 4.0 License</a>.\n",
    "  </div>\n",
    "</div>"
   ]
  }
 ],
 "metadata": {
  "kernelspec": {
   "display_name": "mude-base",
   "language": "python",
   "name": "python3"
  },
  "language_info": {
   "codemirror_mode": {
    "name": "ipython",
    "version": 3
   },
   "file_extension": ".py",
   "mimetype": "text/x-python",
   "name": "python",
   "nbconvert_exporter": "python",
   "pygments_lexer": "ipython3",
   "version": "3.12.11"
  }
 },
 "nbformat": 4,
 "nbformat_minor": 4
}
